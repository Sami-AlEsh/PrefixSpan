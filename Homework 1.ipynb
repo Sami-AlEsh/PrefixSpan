{
 "cells": [
  {
   "cell_type": "markdown",
   "metadata": {},
   "source": [
    "# Data Mining - Homework 1 - PrefixSpan Algorithm Implementation"
   ]
  },
  {
   "cell_type": "markdown",
   "metadata": {},
   "source": [
    "Student: Mohammad Sami ALEsh - Date: Thu 27/5/2021"
   ]
  },
  {
   "cell_type": "markdown",
   "metadata": {},
   "source": [
    "#### Utils functions:"
   ]
  },
  {
   "cell_type": "markdown",
   "metadata": {},
   "source": [
    "This function is used to calculate frequency for each item in the passed database"
   ]
  },
  {
   "cell_type": "code",
   "execution_count": 1,
   "metadata": {},
   "outputs": [],
   "source": [
    "def calculate_items_frequency(db: list):\n",
    "    frequency_dict = dict()\n",
    "    for row in db:\n",
    "        for item in set(row):\n",
    "            if item in frequency_dict:\n",
    "                frequency_dict[item] = frequency_dict[item] + 1\n",
    "            else:\n",
    "                frequency_dict[item] = 1\n",
    "    return frequency_dict"
   ]
  },
  {
   "cell_type": "markdown",
   "metadata": {},
   "source": [
    "This function returns two dictionaries: frequent items (which have support values greater than min_support) and infrequent items"
   ]
  },
  {
   "cell_type": "code",
   "execution_count": 2,
   "metadata": {},
   "outputs": [],
   "source": [
    "def get_frequent_infrequent_items(items_dict: dict, min_support: int):\n",
    "    frequent_items = dict()\n",
    "    infrequent_items = dict()\n",
    "    for k, v in items_dict.items():\n",
    "        if v >= min_support:\n",
    "            frequent_items[k] = v\n",
    "        else:\n",
    "            infrequent_items[k] = v\n",
    "    return frequent_items, infrequent_items"
   ]
  },
  {
   "cell_type": "markdown",
   "metadata": {},
   "source": [
    "This function removes infrequent items from passed database, and returns the cleaned one"
   ]
  },
  {
   "cell_type": "code",
   "execution_count": 3,
   "metadata": {},
   "outputs": [],
   "source": [
    "def remove_infrequent_items_from_db(db: list, infrequent_dict: dict):\n",
    "    new_db = list()\n",
    "    infrequent_items = set(infrequent_dict.keys())\n",
    "    for row in db:\n",
    "        new_row = [item for item in row if item not in infrequent_items]\n",
    "        if len(new_row) > 0:\n",
    "            new_db.append(new_row)\n",
    "    return new_db"
   ]
  },
  {
   "cell_type": "markdown",
   "metadata": {},
   "source": [
    "This function projects the database according to the passed item"
   ]
  },
  {
   "cell_type": "code",
   "execution_count": 4,
   "metadata": {},
   "outputs": [],
   "source": [
    "def project_db(db: list, projection_item: str):\n",
    "    if projection_item == '':\n",
    "        return db.copy()\n",
    "    \n",
    "    projected_db = list()\n",
    "    for row in db:\n",
    "        try:\n",
    "            i = row.index(projection_item)\n",
    "            p_row = row[i+1:]\n",
    "            if len(p_row) != 0:\n",
    "                projected_db.append(p_row)\n",
    "        except:\n",
    "            pass\n",
    "    return projected_db"
   ]
  },
  {
   "cell_type": "markdown",
   "metadata": {},
   "source": [
    "#### Visualization"
   ]
  },
  {
   "cell_type": "code",
   "execution_count": 5,
   "metadata": {},
   "outputs": [],
   "source": [
    "import matplotlib.pyplot as plt\n",
    "%matplotlib inline"
   ]
  },
  {
   "cell_type": "code",
   "execution_count": 6,
   "metadata": {},
   "outputs": [],
   "source": [
    "def get_colors_list(n: int):\n",
    "    colors = list()\n",
    "    base_colors = ['green','blue','purple','brown','teal', 'cyan']\n",
    "    while len(colors) < n:\n",
    "        needed_colors_cnt = n - len(colors)\n",
    "        colors.extend(base_colors[:needed_colors_cnt])\n",
    "    return colors"
   ]
  },
  {
   "cell_type": "code",
   "execution_count": 7,
   "metadata": {},
   "outputs": [],
   "source": [
    "def plot_result(x_items, y_items, title= 'Title', x_label= 'X-Axis', y_label= 'Y-Axis'):\n",
    "    plt.bar(x_items, y_items, color=get_colors_list(len(x_items)))\n",
    "    plt.title(title)\n",
    "    plt.xlabel(x_label)\n",
    "    plt.ylabel(y_label)\n",
    "    plt.xticks(rotation='vertical')\n",
    "    plt.show()"
   ]
  },
  {
   "cell_type": "markdown",
   "metadata": {},
   "source": [
    "#### PrefixSpan algorithm\n",
    "##### Note: uncomment code below to log every step during excution"
   ]
  },
  {
   "cell_type": "code",
   "execution_count": 8,
   "metadata": {},
   "outputs": [],
   "source": [
    "def PrefixSpan(db: list, min_support: int):\n",
    "    def PrefixSpanCore(db: list, min_support: int, projection_item: str = '', previous_items: str = ''):\n",
    "#         print('DB:')\n",
    "#         for r in db:\n",
    "#             print(''.join(r))\n",
    "#         print(f'------- Projecting on /{projection_item}/ with previous /{previous_items}/ -----------')\n",
    "        \n",
    "        m_db = project_db(db, projection_item)\n",
    "        \n",
    "#         for r in m_db:\n",
    "#             print(''.join(r))\n",
    "        \n",
    "        items_frequeny_dict = calculate_items_frequency(m_db)\n",
    "        frequent_items, infrequent_items = get_frequent_infrequent_items(items_frequeny_dict, min_support)\n",
    "        m_db = remove_infrequent_items_from_db(m_db, infrequent_items)\n",
    "        \n",
    "#         print(f'------- Removing infrequent {infrequent_items} -----------')\n",
    "#         for r in m_db:\n",
    "#             print(''.join(r))\n",
    "        \n",
    "        # Update patterns\n",
    "        global patterns\n",
    "        local_patterns = frequent_items.keys()\n",
    "        for pattern in local_patterns:\n",
    "            key = previous_items + '^' + pattern\n",
    "            patterns[key] = frequent_items[pattern]\n",
    "        \n",
    "#         print(f'Local patterns: {local_patterns}')\n",
    "#         print(f'Global patterns: {patterns}')\n",
    "#         print('###############################################')\n",
    "        \n",
    "        # Recursive invoke\n",
    "        for p in local_patterns:\n",
    "            PrefixSpanCore(m_db, min_support, p, previous_items+p)\n",
    "    \n",
    "    PrefixSpanCore(db, min_support)    "
   ]
  },
  {
   "cell_type": "markdown",
   "metadata": {},
   "source": [
    "## Simple Demo"
   ]
  },
  {
   "cell_type": "code",
   "execution_count": 9,
   "metadata": {
    "scrolled": true
   },
   "outputs": [],
   "source": [
    "# Init Data\n",
    "sample_data = [\n",
    "    ['C', 'A', 'G', 'A', 'A', 'G', 'T'],\n",
    "    ['T', 'G', 'A', 'C', 'A', 'G'],\n",
    "    ['G', 'A', 'A', 'G', 'T']\n",
    "]\n",
    "\n",
    "patterns = dict()\n",
    "PrefixSpan(sample_data, min_support=3)"
   ]
  },
  {
   "cell_type": "markdown",
   "metadata": {},
   "source": [
    "#### Note: i used '^' as separator character between items 😉"
   ]
  },
  {
   "cell_type": "code",
   "execution_count": 10,
   "metadata": {},
   "outputs": [
    {
     "name": "stdout",
     "output_type": "stream",
     "text": [
      "Patterns: {'^T': 3, '^G': 3, '^A': 3, 'G^A': 3, 'G^G': 3, 'GA^A': 3, 'GA^G': 3, 'GAA^G': 3, 'A^A': 3, 'A^G': 3, 'AA^G': 3}\n"
     ]
    },
    {
     "data": {
      "image/png": "[encoded data removed]",
      "text/plain": [
       "<Figure size 432x288 with 1 Axes>"
      ]
     },
     "metadata": {
      "needs_background": "light"
     },
     "output_type": "display_data"
    }
   ],
   "source": [
    "# Results:\n",
    "print('Patterns:', patterns)\n",
    "plot_result(patterns.keys(), patterns.values(), 'Patterns Support Visualization', 'pattern', 'support')"
   ]
  },
  {
   "cell_type": "markdown",
   "metadata": {
    "scrolled": false
   },
   "source": [
    "## Dataset Demo"
   ]
  },
  {
   "cell_type": "code",
   "execution_count": 11,
   "metadata": {},
   "outputs": [],
   "source": [
    "import pandas as pd"
   ]
  },
  {
   "cell_type": "code",
   "execution_count": 12,
   "metadata": {},
   "outputs": [
    {
     "name": "stdout",
     "output_type": "stream",
     "text": [
      "<class 'pandas.core.frame.DataFrame'>\n",
      "RangeIndex: 51318 entries, 0 to 51317\n",
      "Data columns (total 5 columns):\n",
      " #   Column           Non-Null Count  Dtype  \n",
      "---  ------           --------------  -----  \n",
      " 0   HashedIpAddress  51315 non-null  object \n",
      " 1   TimeStamp        51318 non-null  int64  \n",
      " 2   Duration         51318 non-null  int64  \n",
      " 3   path             51318 non-null  object \n",
      " 4   rating           28501 non-null  float64\n",
      "dtypes: float64(1), int64(2), object(2)\n",
      "memory usage: 2.0+ MB\n"
     ]
    }
   ],
   "source": [
    "paths_df = pd.read_csv('paths_finished.tsv', sep='\\t')\n",
    "paths_df.info()"
   ]
  },
  {
   "cell_type": "markdown",
   "metadata": {},
   "source": [
    "Seperate each row on comma (;)"
   ]
  },
  {
   "cell_type": "code",
   "execution_count": 13,
   "metadata": {},
   "outputs": [],
   "source": [
    "paths_df['clean_path'] = paths_df['path'].apply(lambda x: x.split(';'))"
   ]
  },
  {
   "cell_type": "code",
   "execution_count": 14,
   "metadata": {},
   "outputs": [],
   "source": [
    "dataset_data = paths_df['clean_path'].to_list()\n",
    "patterns = dict()\n",
    "PrefixSpan(dataset_data, min_support=1000)"
   ]
  },
  {
   "cell_type": "markdown",
   "metadata": {},
   "source": [
    "#### Note: i used '^' as separator character between items 😉"
   ]
  },
  {
   "cell_type": "code",
   "execution_count": 15,
   "metadata": {},
   "outputs": [
    {
     "name": "stdout",
     "output_type": "stream",
     "text": [
      "Patterns:\n",
      " {'^Africa': 2738, '^Atlantic_Ocean': 1297, '^Europe': 4303, '^United_States': 8675, '^North_America': 1861, '^China': 1110, '^Science': 1479, '^<': 8995, '^Christianity': 1074, '^India': 1216, '^World_War_II': 2267, '^France': 1588, '^England': 3261, '^Periodic_table': 1394, '^English_language': 1414, '^United_Nations': 1050, '^Mammal': 1568, '^Bird': 1182, '^Germany': 1738, '^Earth': 3176, '^Animal': 1666, '^Internet': 1023, '^Computer': 1528, '^United_Kingdom': 3807, '^Russia': 1007, '^Plant': 1127, '^Asia': 1167, '^Human': 1604, '^Japan': 1070, '^Brain': 1316, '^Agriculture': 1147, '^Theatre': 1034, '^Zebra': 1041, '^Asteroid': 1171, '^Viking': 1192, '^Telephone': 1251, 'United_States^<': 1354, '<^<': 3900, '<<^<': 2174, '<<<^<': 1359, 'Brain^Telephone': 1043, 'Asteroid^Viking': 1043}\n"
     ]
    },
    {
     "data": {
      "image/png": "[encoded data removed]",
      "text/plain": [
       "<Figure size 432x288 with 1 Axes>"
      ]
     },
     "metadata": {
      "needs_background": "light"
     },
     "output_type": "display_data"
    }
   ],
   "source": [
    "# Results:\n",
    "print('Patterns:\\n', patterns)\n",
    "plot_result(patterns.keys(), patterns.values(), 'Patterns Support Visualization', 'pattern', 'support')"
   ]
  },
  {
   "cell_type": "markdown",
   "metadata": {},
   "source": [
    "Top 5 patterns:"
   ]
  },
  {
   "cell_type": "code",
   "execution_count": 16,
   "metadata": {},
   "outputs": [
    {
     "name": "stdout",
     "output_type": "stream",
     "text": [
      "pattern: /^</ ,support: 8995\n",
      "pattern: /^United_States/ ,support: 8675\n",
      "pattern: /^Europe/ ,support: 4303\n",
      "pattern: /<^</ ,support: 3900\n",
      "pattern: /^United_Kingdom/ ,support: 3807\n"
     ]
    }
   ],
   "source": [
    "sort_patterns = sorted(patterns.items(), key=lambda x: x[1], reverse=True)\n",
    "for tup in sort_patterns[:5]:\n",
    "    print(f'pattern: /{tup[0]}/ ,support: {tup[1]}')"
   ]
  },
  {
   "cell_type": "code",
   "execution_count": null,
   "metadata": {},
   "outputs": [],
   "source": []
  }
 ],
 "metadata": {
  "kernelspec": {
   "display_name": "Python 3",
   "language": "python",
   "name": "python3"
  },
  "language_info": {
   "codemirror_mode": {
    "name": "ipython",
    "version": 3
   },
   "file_extension": ".py",
   "mimetype": "text/x-python",
   "name": "python",
   "nbconvert_exporter": "python",
   "pygments_lexer": "ipython3",
   "version": "3.8.0"
  }
 },
 "nbformat": 4,
 "nbformat_minor": 4
}
